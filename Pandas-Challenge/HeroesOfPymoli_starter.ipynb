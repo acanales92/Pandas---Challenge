{
 "cells": [
  {
   "cell_type": "markdown",
   "metadata": {},
   "source": [
    "### Note\n",
    "* Instructions have been included for each segment. You do not have to follow them exactly, but they are included to help you think through the steps."
   ]
  },
  {
   "cell_type": "code",
   "execution_count": 1,
   "metadata": {},
   "outputs": [],
   "source": [
    "# Dependencies and Setup\n",
    "import pandas as pd\n",
    "\n",
    "# File to Load (Remember to Change These)\n",
    "file_to_load = \"Resources/purchase_data.csv\"\n",
    "\n",
    "# Read Purchasing File and store into Pandas data frame\n",
    "purchase_data = pd.read_csv(file_to_load)"
   ]
  },
  {
   "cell_type": "markdown",
   "metadata": {},
   "source": [
    "## Player Count"
   ]
  },
  {
   "cell_type": "markdown",
   "metadata": {},
   "source": [
    "* Display the total number of players\n"
   ]
  },
  {
   "cell_type": "code",
   "execution_count": 5,
   "metadata": {},
   "outputs": [
    {
     "data": {
      "text/html": [
       "<div>\n",
       "<style scoped>\n",
       "    .dataframe tbody tr th:only-of-type {\n",
       "        vertical-align: middle;\n",
       "    }\n",
       "\n",
       "    .dataframe tbody tr th {\n",
       "        vertical-align: top;\n",
       "    }\n",
       "\n",
       "    .dataframe thead th {\n",
       "        text-align: right;\n",
       "    }\n",
       "</style>\n",
       "<table border=\"1\" class=\"dataframe\">\n",
       "  <thead>\n",
       "    <tr style=\"text-align: right;\">\n",
       "      <th></th>\n",
       "      <th>Total Players</th>\n",
       "    </tr>\n",
       "  </thead>\n",
       "  <tbody>\n",
       "    <tr>\n",
       "      <th>0</th>\n",
       "      <td>576</td>\n",
       "    </tr>\n",
       "  </tbody>\n",
       "</table>\n",
       "</div>"
      ],
      "text/plain": [
       "   Total Players\n",
       "0            576"
      ]
     },
     "execution_count": 5,
     "metadata": {},
     "output_type": "execute_result"
    }
   ],
   "source": [
    "TotalPlayers = len(purchase_data[\"SN\"].value_counts())\n",
    "PlayerCount = pd.DataFrame({\"Total Players\":[TotalPlayers]})\n",
    "PlayerCount"
   ]
  },
  {
   "cell_type": "markdown",
   "metadata": {},
   "source": [
    "## Purchasing Analysis (Total)"
   ]
  },
  {
   "cell_type": "markdown",
   "metadata": {},
   "source": [
    "* Run basic calculations to obtain number of unique items, average price, etc.\n",
    "\n",
    "\n",
    "* Create a summary data frame to hold the results\n",
    "\n",
    "\n",
    "* Optional: give the displayed data cleaner formatting\n",
    "\n",
    "\n",
    "* Display the summary data frame\n"
   ]
  },
  {
   "cell_type": "code",
   "execution_count": 45,
   "metadata": {
    "scrolled": true
   },
   "outputs": [
    {
     "data": {
      "text/html": [
       "<style  type=\"text/css\" >\n",
       "</style><table id=\"T_b8193e7a_e7c5_11e9_8d88_b888e3ef5b7a\" ><thead>    <tr>        <th class=\"blank level0\" ></th>        <th class=\"col_heading level0 col0\" >Number of Unique Items</th>        <th class=\"col_heading level0 col1\" >Average Price</th>        <th class=\"col_heading level0 col2\" >Number of Purchases</th>        <th class=\"col_heading level0 col3\" >Total Revenue</th>    </tr></thead><tbody>\n",
       "                <tr>\n",
       "                        <th id=\"T_b8193e7a_e7c5_11e9_8d88_b888e3ef5b7alevel0_row0\" class=\"row_heading level0 row0\" >0</th>\n",
       "                        <td id=\"T_b8193e7a_e7c5_11e9_8d88_b888e3ef5b7arow0_col0\" class=\"data row0 col0\" >183</td>\n",
       "                        <td id=\"T_b8193e7a_e7c5_11e9_8d88_b888e3ef5b7arow0_col1\" class=\"data row0 col1\" >$3.05</td>\n",
       "                        <td id=\"T_b8193e7a_e7c5_11e9_8d88_b888e3ef5b7arow0_col2\" class=\"data row0 col2\" >780</td>\n",
       "                        <td id=\"T_b8193e7a_e7c5_11e9_8d88_b888e3ef5b7arow0_col3\" class=\"data row0 col3\" >$2,379.77</td>\n",
       "            </tr>\n",
       "    </tbody></table>"
      ],
      "text/plain": [
       "<pandas.io.formats.style.Styler at 0x2bada6b41d0>"
      ]
     },
     "execution_count": 45,
     "metadata": {},
     "output_type": "execute_result"
    }
   ],
   "source": [
    "NumberOfUniqueItems = len((purchase_data[\"Item ID\"]).unique())\n",
    "AveragePrice = (purchase_data[\"Price\"]).mean()\n",
    "NumberOfPurchases = (purchase_data[\"Purchase ID\"]).count()\n",
    "TotalRevenue = (purchase_data[\"Price\"]).sum()\n",
    "\n",
    "# Creating data frame \n",
    "summary_df = pd.DataFrame({\"Number of Unique Items\":[NumberOfUniqueItems],\n",
    "                           \"Average Price\":[AveragePrice], \n",
    "                           \"Number of Purchases\": [NumberOfPurchases], \n",
    "                           \"Total Revenue\": [TotalRevenue]})\n",
    "summary_df.style.format({'Average Price':\"${:,.2f}\",\n",
    "                          'Total Revenue': '${:,.2f}'})\n"
   ]
  },
  {
   "cell_type": "markdown",
   "metadata": {},
   "source": [
    "## Gender Demographics"
   ]
  },
  {
   "cell_type": "markdown",
   "metadata": {},
   "source": [
    "* Percentage and Count of Male Players\n",
    "\n",
    "\n",
    "* Percentage and Count of Female Players\n",
    "\n",
    "\n",
    "* Percentage and Count of Other / Non-Disclosed\n",
    "\n",
    "\n"
   ]
  },
  {
   "cell_type": "code",
   "execution_count": 76,
   "metadata": {},
   "outputs": [
    {
     "data": {
      "text/html": [
       "<style  type=\"text/css\" >\n",
       "</style><table id=\"T_7b4b9e1a_e7cc_11e9_80dd_b888e3ef5b7a\" ><thead>    <tr>        <th class=\"blank level0\" ></th>        <th class=\"col_heading level0 col0\" >Total Count</th>        <th class=\"col_heading level0 col1\" >Percentage of Players</th>    </tr></thead><tbody>\n",
       "                <tr>\n",
       "                        <th id=\"T_7b4b9e1a_e7cc_11e9_80dd_b888e3ef5b7alevel0_row0\" class=\"row_heading level0 row0\" >Female</th>\n",
       "                        <td id=\"T_7b4b9e1a_e7cc_11e9_80dd_b888e3ef5b7arow0_col0\" class=\"data row0 col0\" >81</td>\n",
       "                        <td id=\"T_7b4b9e1a_e7cc_11e9_80dd_b888e3ef5b7arow0_col1\" class=\"data row0 col1\" >14.06%</td>\n",
       "            </tr>\n",
       "            <tr>\n",
       "                        <th id=\"T_7b4b9e1a_e7cc_11e9_80dd_b888e3ef5b7alevel0_row1\" class=\"row_heading level0 row1\" >Male</th>\n",
       "                        <td id=\"T_7b4b9e1a_e7cc_11e9_80dd_b888e3ef5b7arow1_col0\" class=\"data row1 col0\" >484</td>\n",
       "                        <td id=\"T_7b4b9e1a_e7cc_11e9_80dd_b888e3ef5b7arow1_col1\" class=\"data row1 col1\" >84.03%</td>\n",
       "            </tr>\n",
       "            <tr>\n",
       "                        <th id=\"T_7b4b9e1a_e7cc_11e9_80dd_b888e3ef5b7alevel0_row2\" class=\"row_heading level0 row2\" >Other / Non-Disclosed</th>\n",
       "                        <td id=\"T_7b4b9e1a_e7cc_11e9_80dd_b888e3ef5b7arow2_col0\" class=\"data row2 col0\" >11</td>\n",
       "                        <td id=\"T_7b4b9e1a_e7cc_11e9_80dd_b888e3ef5b7arow2_col1\" class=\"data row2 col1\" >1.91%</td>\n",
       "            </tr>\n",
       "    </tbody></table>"
      ],
      "text/plain": [
       "<pandas.io.formats.style.Styler at 0x2bad9a18b70>"
      ]
     },
     "execution_count": 76,
     "metadata": {},
     "output_type": "execute_result"
    }
   ],
   "source": [
    "#group by gender\n",
    "GenderStats = purchase_data.groupby(\"Gender\")\n",
    "\n",
    "# count by gender\n",
    "TotalGenderCount = GenderStats.nunique()[\"SN\"]\n",
    "\n",
    "# percentage of palyers calculated by : Total count by gender and divivde by total players \n",
    "PlayersPercentage = TotalGenderCount / TotalPlayers\n",
    "\n",
    "# Data frame created by\n",
    "Gender = pd.DataFrame({ \"Total Count\": TotalGenderCount, \"Percentage of Players\": PlayersPercentage})\n",
    "\n",
    "# Format the data frame with no index name in the corner \n",
    "Gender.index.name = None\n",
    "\n",
    "# Format the values sorted by total count in descending order, and two decimal places for the percentage\n",
    "Gender.sort_values([\"Total Count\"], ascending = False).style.format({\"Percentage of Players\":\"{:.2f}\"})\n",
    "Gender.style.format({\"Percentage of Players\":\"{:.2%}\"})\n"
   ]
  },
  {
   "cell_type": "markdown",
   "metadata": {},
   "source": [
    "\n",
    "## Purchasing Analysis (Gender)"
   ]
  },
  {
   "cell_type": "markdown",
   "metadata": {},
   "source": [
    "* Run basic calculations to obtain purchase count, avg. purchase price, avg. purchase total per person etc. by gender\n",
    "\n",
    "\n",
    "\n",
    "\n",
    "* Create a summary data frame to hold the results\n",
    "\n",
    "\n",
    "* Optional: give the displayed data cleaner formatting\n",
    "\n",
    "\n",
    "* Display the summary data frame"
   ]
  },
  {
   "cell_type": "code",
   "execution_count": 61,
   "metadata": {},
   "outputs": [
    {
     "data": {
      "text/html": [
       "<style  type=\"text/css\" >\n",
       "</style><table id=\"T_1f90351c_e7ca_11e9_8447_b888e3ef5b7a\" ><thead>    <tr>        <th class=\"blank level0\" ></th>        <th class=\"col_heading level0 col0\" >Purchase Count</th>        <th class=\"col_heading level0 col1\" >Average Purchase Price</th>        <th class=\"col_heading level0 col2\" >Average Purchase Value</th>        <th class=\"col_heading level0 col3\" >Avg Purchase Total per Person</th>    </tr>    <tr>        <th class=\"index_name level0\" >Gender</th>        <th class=\"blank\" ></th>        <th class=\"blank\" ></th>        <th class=\"blank\" ></th>        <th class=\"blank\" ></th>    </tr></thead><tbody>\n",
       "                <tr>\n",
       "                        <th id=\"T_1f90351c_e7ca_11e9_8447_b888e3ef5b7alevel0_row0\" class=\"row_heading level0 row0\" >Female</th>\n",
       "                        <td id=\"T_1f90351c_e7ca_11e9_8447_b888e3ef5b7arow0_col0\" class=\"data row0 col0\" >113</td>\n",
       "                        <td id=\"T_1f90351c_e7ca_11e9_8447_b888e3ef5b7arow0_col1\" class=\"data row0 col1\" >$3.20</td>\n",
       "                        <td id=\"T_1f90351c_e7ca_11e9_8447_b888e3ef5b7arow0_col2\" class=\"data row0 col2\" >$361.94</td>\n",
       "                        <td id=\"T_1f90351c_e7ca_11e9_8447_b888e3ef5b7arow0_col3\" class=\"data row0 col3\" >$4.47</td>\n",
       "            </tr>\n",
       "            <tr>\n",
       "                        <th id=\"T_1f90351c_e7ca_11e9_8447_b888e3ef5b7alevel0_row1\" class=\"row_heading level0 row1\" >Male</th>\n",
       "                        <td id=\"T_1f90351c_e7ca_11e9_8447_b888e3ef5b7arow1_col0\" class=\"data row1 col0\" >652</td>\n",
       "                        <td id=\"T_1f90351c_e7ca_11e9_8447_b888e3ef5b7arow1_col1\" class=\"data row1 col1\" >$3.02</td>\n",
       "                        <td id=\"T_1f90351c_e7ca_11e9_8447_b888e3ef5b7arow1_col2\" class=\"data row1 col2\" >$1,967.64</td>\n",
       "                        <td id=\"T_1f90351c_e7ca_11e9_8447_b888e3ef5b7arow1_col3\" class=\"data row1 col3\" >$4.07</td>\n",
       "            </tr>\n",
       "            <tr>\n",
       "                        <th id=\"T_1f90351c_e7ca_11e9_8447_b888e3ef5b7alevel0_row2\" class=\"row_heading level0 row2\" >Other / Non-Disclosed</th>\n",
       "                        <td id=\"T_1f90351c_e7ca_11e9_8447_b888e3ef5b7arow2_col0\" class=\"data row2 col0\" >15</td>\n",
       "                        <td id=\"T_1f90351c_e7ca_11e9_8447_b888e3ef5b7arow2_col1\" class=\"data row2 col1\" >$3.35</td>\n",
       "                        <td id=\"T_1f90351c_e7ca_11e9_8447_b888e3ef5b7arow2_col2\" class=\"data row2 col2\" >$50.19</td>\n",
       "                        <td id=\"T_1f90351c_e7ca_11e9_8447_b888e3ef5b7arow2_col3\" class=\"data row2 col3\" >$4.56</td>\n",
       "            </tr>\n",
       "    </tbody></table>"
      ],
      "text/plain": [
       "<pandas.io.formats.style.Styler at 0x2bada595630>"
      ]
     },
     "execution_count": 61,
     "metadata": {},
     "output_type": "execute_result"
    }
   ],
   "source": [
    "# Count the total purchases by gender \n",
    "PurchaseCounts = GenderStats[\"Purchase ID\"].count()\n",
    "\n",
    "# Average purchase prices by gender\n",
    "AveragePurchasePrice = GenderStats[\"Price\"].mean()\n",
    "\n",
    "# Average purchase total by gender \n",
    "AveragePurchaseValue = GenderStats[\"Price\"].sum()\n",
    "\n",
    "# Average purchase total by gender divivded by purchase count by unique shoppers\n",
    "APurchaseTotalperPerson = AveragePurchaseValue/TotalGenderCount\n",
    "\n",
    "# Create data frame with obtained values \n",
    "Gender = pd.DataFrame({\"Purchase Count\": PurchaseCounts, \n",
    "                                    \"Average Purchase Price\": AveragePurchasePrice,\n",
    "                                    \"Average Purchase Value\":AveragePurchaseValue,\n",
    "                                    \"Avg Purchase Total per Person\": APurchaseTotalperPerson})\n",
    "\n",
    "# Provide index in top left as \"Gender\"\n",
    "Gender.index.name = \"Gender\"\n",
    "\n",
    "# Format with currency style\n",
    "Gender.style.format({\"Average Purchase Value\":\"${:,.2f}\",\n",
    "                                  \"Average Purchase Price\":\"${:,.2f}\",\n",
    "                                  \"Avg Purchase Total per Person\":\"${:,.2f}\"})"
   ]
  },
  {
   "cell_type": "markdown",
   "metadata": {},
   "source": [
    "## Age Demographics"
   ]
  },
  {
   "cell_type": "markdown",
   "metadata": {},
   "source": [
    "* Establish bins for ages\n",
    "\n",
    "\n",
    "* Categorize the existing players using the age bins. Hint: use pd.cut()\n",
    "\n",
    "\n",
    "* Calculate the numbers and percentages by age group\n",
    "\n",
    "\n",
    "* Create a summary data frame to hold the results\n",
    "\n",
    "\n",
    "* Optional: round the percentage column to two decimal points\n",
    "\n",
    "\n",
    "* Display Age Demographics Table\n"
   ]
  },
  {
   "cell_type": "code",
   "execution_count": 77,
   "metadata": {},
   "outputs": [
    {
     "data": {
      "text/html": [
       "<style  type=\"text/css\" >\n",
       "</style><table id=\"T_8c5f6afa_e7cc_11e9_bef7_b888e3ef5b7a\" ><thead>    <tr>        <th class=\"blank level0\" ></th>        <th class=\"col_heading level0 col0\" >Total Count</th>        <th class=\"col_heading level0 col1\" >Percentage of Players</th>    </tr></thead><tbody>\n",
       "                <tr>\n",
       "                        <th id=\"T_8c5f6afa_e7cc_11e9_bef7_b888e3ef5b7alevel0_row0\" class=\"row_heading level0 row0\" ><10</th>\n",
       "                        <td id=\"T_8c5f6afa_e7cc_11e9_bef7_b888e3ef5b7arow0_col0\" class=\"data row0 col0\" >17</td>\n",
       "                        <td id=\"T_8c5f6afa_e7cc_11e9_bef7_b888e3ef5b7arow0_col1\" class=\"data row0 col1\" >2.95%</td>\n",
       "            </tr>\n",
       "            <tr>\n",
       "                        <th id=\"T_8c5f6afa_e7cc_11e9_bef7_b888e3ef5b7alevel0_row1\" class=\"row_heading level0 row1\" >10-14</th>\n",
       "                        <td id=\"T_8c5f6afa_e7cc_11e9_bef7_b888e3ef5b7arow1_col0\" class=\"data row1 col0\" >22</td>\n",
       "                        <td id=\"T_8c5f6afa_e7cc_11e9_bef7_b888e3ef5b7arow1_col1\" class=\"data row1 col1\" >3.82%</td>\n",
       "            </tr>\n",
       "            <tr>\n",
       "                        <th id=\"T_8c5f6afa_e7cc_11e9_bef7_b888e3ef5b7alevel0_row2\" class=\"row_heading level0 row2\" >15-19</th>\n",
       "                        <td id=\"T_8c5f6afa_e7cc_11e9_bef7_b888e3ef5b7arow2_col0\" class=\"data row2 col0\" >107</td>\n",
       "                        <td id=\"T_8c5f6afa_e7cc_11e9_bef7_b888e3ef5b7arow2_col1\" class=\"data row2 col1\" >18.58%</td>\n",
       "            </tr>\n",
       "            <tr>\n",
       "                        <th id=\"T_8c5f6afa_e7cc_11e9_bef7_b888e3ef5b7alevel0_row3\" class=\"row_heading level0 row3\" >20-24</th>\n",
       "                        <td id=\"T_8c5f6afa_e7cc_11e9_bef7_b888e3ef5b7arow3_col0\" class=\"data row3 col0\" >258</td>\n",
       "                        <td id=\"T_8c5f6afa_e7cc_11e9_bef7_b888e3ef5b7arow3_col1\" class=\"data row3 col1\" >44.79%</td>\n",
       "            </tr>\n",
       "            <tr>\n",
       "                        <th id=\"T_8c5f6afa_e7cc_11e9_bef7_b888e3ef5b7alevel0_row4\" class=\"row_heading level0 row4\" >25-29</th>\n",
       "                        <td id=\"T_8c5f6afa_e7cc_11e9_bef7_b888e3ef5b7arow4_col0\" class=\"data row4 col0\" >77</td>\n",
       "                        <td id=\"T_8c5f6afa_e7cc_11e9_bef7_b888e3ef5b7arow4_col1\" class=\"data row4 col1\" >13.37%</td>\n",
       "            </tr>\n",
       "            <tr>\n",
       "                        <th id=\"T_8c5f6afa_e7cc_11e9_bef7_b888e3ef5b7alevel0_row5\" class=\"row_heading level0 row5\" >30-34</th>\n",
       "                        <td id=\"T_8c5f6afa_e7cc_11e9_bef7_b888e3ef5b7arow5_col0\" class=\"data row5 col0\" >52</td>\n",
       "                        <td id=\"T_8c5f6afa_e7cc_11e9_bef7_b888e3ef5b7arow5_col1\" class=\"data row5 col1\" >9.03%</td>\n",
       "            </tr>\n",
       "            <tr>\n",
       "                        <th id=\"T_8c5f6afa_e7cc_11e9_bef7_b888e3ef5b7alevel0_row6\" class=\"row_heading level0 row6\" >35-39</th>\n",
       "                        <td id=\"T_8c5f6afa_e7cc_11e9_bef7_b888e3ef5b7arow6_col0\" class=\"data row6 col0\" >31</td>\n",
       "                        <td id=\"T_8c5f6afa_e7cc_11e9_bef7_b888e3ef5b7arow6_col1\" class=\"data row6 col1\" >5.38%</td>\n",
       "            </tr>\n",
       "            <tr>\n",
       "                        <th id=\"T_8c5f6afa_e7cc_11e9_bef7_b888e3ef5b7alevel0_row7\" class=\"row_heading level0 row7\" >40+</th>\n",
       "                        <td id=\"T_8c5f6afa_e7cc_11e9_bef7_b888e3ef5b7arow7_col0\" class=\"data row7 col0\" >12</td>\n",
       "                        <td id=\"T_8c5f6afa_e7cc_11e9_bef7_b888e3ef5b7arow7_col1\" class=\"data row7 col1\" >2.08%</td>\n",
       "            </tr>\n",
       "    </tbody></table>"
      ],
      "text/plain": [
       "<pandas.io.formats.style.Styler at 0x2bada2024a8>"
      ]
     },
     "execution_count": 77,
     "metadata": {},
     "output_type": "execute_result"
    }
   ],
   "source": [
    "# Establish bins for ages\n",
    "AgeBins = [0, 9.90, 14.90, 19.90, 24.90, 29.90, 34.90, 39.90, 99999]\n",
    "AgeGroups = [\"<10\", \"10-14\", \"15-19\", \"20-24\", \"25-29\", \"30-34\", \"35-39\", \"40+\"]\n",
    "\n",
    "# Segment and sort age values into bins established above\n",
    "purchase_data[\"Age Group\"] = pd.cut(purchase_data[\"Age\"],AgeBins, labels=AgeGroups)\n",
    "purchase_data\n",
    "\n",
    "# Create new data frame with the added \"Age Group\" and group it\n",
    "Groups = purchase_data.groupby(\"Age Group\")\n",
    "\n",
    "# Count total players by age category\n",
    "TotalAgeCount = Groups[\"SN\"].nunique()\n",
    "\n",
    "# Calculate percentages by age category \n",
    "AgePercentage = (TotalAgeCount/TotalPlayers)\n",
    "\n",
    "# Create data frame with obtained values\n",
    "Age = pd.DataFrame({\"Total Count\": TotalAgeCount, \"Percentage of Players\": AgePercentage})\n",
    "\n",
    "# Format the data frame with no index name in the corner\n",
    "Age.index.name = None\n",
    "\n",
    "# Format percentage with two decimal places \n",
    "Age.style.format({\"Percentage of Players\":\"{:,.2f}\"})\n",
    "Age.style.format({\"Percentage of Players\":\"{:.2%}\"})"
   ]
  },
  {
   "cell_type": "markdown",
   "metadata": {},
   "source": [
    "## Purchasing Analysis (Age)"
   ]
  },
  {
   "cell_type": "markdown",
   "metadata": {},
   "source": [
    "* Bin the purchase_data data frame by age\n",
    "\n",
    "\n",
    "* Run basic calculations to obtain purchase count, avg. purchase price, avg. purchase total per person etc. in the table below\n",
    "\n",
    "\n",
    "* Create a summary data frame to hold the results\n",
    "\n",
    "\n",
    "* Optional: give the displayed data cleaner formatting\n",
    "\n",
    "\n",
    "* Display the summary data frame"
   ]
  },
  {
   "cell_type": "code",
   "execution_count": 81,
   "metadata": {},
   "outputs": [
    {
     "data": {
      "text/html": [
       "<style  type=\"text/css\" >\n",
       "</style><table id=\"T_f3350724_e7cf_11e9_8286_b888e3ef5b7a\" ><thead>    <tr>        <th class=\"blank level0\" ></th>        <th class=\"col_heading level0 col0\" >Purchase Count</th>        <th class=\"col_heading level0 col1\" >Average Purchase Price</th>        <th class=\"col_heading level0 col2\" >Total Purchase Value</th>        <th class=\"col_heading level0 col3\" >Average Purchase Total per Person</th>    </tr></thead><tbody>\n",
       "                <tr>\n",
       "                        <th id=\"T_f3350724_e7cf_11e9_8286_b888e3ef5b7alevel0_row0\" class=\"row_heading level0 row0\" ><10</th>\n",
       "                        <td id=\"T_f3350724_e7cf_11e9_8286_b888e3ef5b7arow0_col0\" class=\"data row0 col0\" >23</td>\n",
       "                        <td id=\"T_f3350724_e7cf_11e9_8286_b888e3ef5b7arow0_col1\" class=\"data row0 col1\" >$3.35</td>\n",
       "                        <td id=\"T_f3350724_e7cf_11e9_8286_b888e3ef5b7arow0_col2\" class=\"data row0 col2\" >$77.13</td>\n",
       "                        <td id=\"T_f3350724_e7cf_11e9_8286_b888e3ef5b7arow0_col3\" class=\"data row0 col3\" >$4.54</td>\n",
       "            </tr>\n",
       "            <tr>\n",
       "                        <th id=\"T_f3350724_e7cf_11e9_8286_b888e3ef5b7alevel0_row1\" class=\"row_heading level0 row1\" >10-14</th>\n",
       "                        <td id=\"T_f3350724_e7cf_11e9_8286_b888e3ef5b7arow1_col0\" class=\"data row1 col0\" >28</td>\n",
       "                        <td id=\"T_f3350724_e7cf_11e9_8286_b888e3ef5b7arow1_col1\" class=\"data row1 col1\" >$2.96</td>\n",
       "                        <td id=\"T_f3350724_e7cf_11e9_8286_b888e3ef5b7arow1_col2\" class=\"data row1 col2\" >$82.78</td>\n",
       "                        <td id=\"T_f3350724_e7cf_11e9_8286_b888e3ef5b7arow1_col3\" class=\"data row1 col3\" >$3.76</td>\n",
       "            </tr>\n",
       "            <tr>\n",
       "                        <th id=\"T_f3350724_e7cf_11e9_8286_b888e3ef5b7alevel0_row2\" class=\"row_heading level0 row2\" >15-19</th>\n",
       "                        <td id=\"T_f3350724_e7cf_11e9_8286_b888e3ef5b7arow2_col0\" class=\"data row2 col0\" >136</td>\n",
       "                        <td id=\"T_f3350724_e7cf_11e9_8286_b888e3ef5b7arow2_col1\" class=\"data row2 col1\" >$3.04</td>\n",
       "                        <td id=\"T_f3350724_e7cf_11e9_8286_b888e3ef5b7arow2_col2\" class=\"data row2 col2\" >$412.89</td>\n",
       "                        <td id=\"T_f3350724_e7cf_11e9_8286_b888e3ef5b7arow2_col3\" class=\"data row2 col3\" >$3.86</td>\n",
       "            </tr>\n",
       "            <tr>\n",
       "                        <th id=\"T_f3350724_e7cf_11e9_8286_b888e3ef5b7alevel0_row3\" class=\"row_heading level0 row3\" >20-24</th>\n",
       "                        <td id=\"T_f3350724_e7cf_11e9_8286_b888e3ef5b7arow3_col0\" class=\"data row3 col0\" >365</td>\n",
       "                        <td id=\"T_f3350724_e7cf_11e9_8286_b888e3ef5b7arow3_col1\" class=\"data row3 col1\" >$3.05</td>\n",
       "                        <td id=\"T_f3350724_e7cf_11e9_8286_b888e3ef5b7arow3_col2\" class=\"data row3 col2\" >$1,114.06</td>\n",
       "                        <td id=\"T_f3350724_e7cf_11e9_8286_b888e3ef5b7arow3_col3\" class=\"data row3 col3\" >$4.32</td>\n",
       "            </tr>\n",
       "            <tr>\n",
       "                        <th id=\"T_f3350724_e7cf_11e9_8286_b888e3ef5b7alevel0_row4\" class=\"row_heading level0 row4\" >25-29</th>\n",
       "                        <td id=\"T_f3350724_e7cf_11e9_8286_b888e3ef5b7arow4_col0\" class=\"data row4 col0\" >101</td>\n",
       "                        <td id=\"T_f3350724_e7cf_11e9_8286_b888e3ef5b7arow4_col1\" class=\"data row4 col1\" >$2.90</td>\n",
       "                        <td id=\"T_f3350724_e7cf_11e9_8286_b888e3ef5b7arow4_col2\" class=\"data row4 col2\" >$293.00</td>\n",
       "                        <td id=\"T_f3350724_e7cf_11e9_8286_b888e3ef5b7arow4_col3\" class=\"data row4 col3\" >$3.81</td>\n",
       "            </tr>\n",
       "            <tr>\n",
       "                        <th id=\"T_f3350724_e7cf_11e9_8286_b888e3ef5b7alevel0_row5\" class=\"row_heading level0 row5\" >30-34</th>\n",
       "                        <td id=\"T_f3350724_e7cf_11e9_8286_b888e3ef5b7arow5_col0\" class=\"data row5 col0\" >73</td>\n",
       "                        <td id=\"T_f3350724_e7cf_11e9_8286_b888e3ef5b7arow5_col1\" class=\"data row5 col1\" >$2.93</td>\n",
       "                        <td id=\"T_f3350724_e7cf_11e9_8286_b888e3ef5b7arow5_col2\" class=\"data row5 col2\" >$214.00</td>\n",
       "                        <td id=\"T_f3350724_e7cf_11e9_8286_b888e3ef5b7arow5_col3\" class=\"data row5 col3\" >$4.12</td>\n",
       "            </tr>\n",
       "            <tr>\n",
       "                        <th id=\"T_f3350724_e7cf_11e9_8286_b888e3ef5b7alevel0_row6\" class=\"row_heading level0 row6\" >35-39</th>\n",
       "                        <td id=\"T_f3350724_e7cf_11e9_8286_b888e3ef5b7arow6_col0\" class=\"data row6 col0\" >41</td>\n",
       "                        <td id=\"T_f3350724_e7cf_11e9_8286_b888e3ef5b7arow6_col1\" class=\"data row6 col1\" >$3.60</td>\n",
       "                        <td id=\"T_f3350724_e7cf_11e9_8286_b888e3ef5b7arow6_col2\" class=\"data row6 col2\" >$147.67</td>\n",
       "                        <td id=\"T_f3350724_e7cf_11e9_8286_b888e3ef5b7arow6_col3\" class=\"data row6 col3\" >$4.76</td>\n",
       "            </tr>\n",
       "            <tr>\n",
       "                        <th id=\"T_f3350724_e7cf_11e9_8286_b888e3ef5b7alevel0_row7\" class=\"row_heading level0 row7\" >40+</th>\n",
       "                        <td id=\"T_f3350724_e7cf_11e9_8286_b888e3ef5b7arow7_col0\" class=\"data row7 col0\" >13</td>\n",
       "                        <td id=\"T_f3350724_e7cf_11e9_8286_b888e3ef5b7arow7_col1\" class=\"data row7 col1\" >$2.94</td>\n",
       "                        <td id=\"T_f3350724_e7cf_11e9_8286_b888e3ef5b7arow7_col2\" class=\"data row7 col2\" >$38.24</td>\n",
       "                        <td id=\"T_f3350724_e7cf_11e9_8286_b888e3ef5b7arow7_col3\" class=\"data row7 col3\" >$3.19</td>\n",
       "            </tr>\n",
       "    </tbody></table>"
      ],
      "text/plain": [
       "<pandas.io.formats.style.Styler at 0x2bada58c240>"
      ]
     },
     "execution_count": 81,
     "metadata": {},
     "output_type": "execute_result"
    }
   ],
   "source": [
    "# Count purchases by age group\n",
    "AgePurchaseCount = Groups[\"Purchase ID\"].count()\n",
    "\n",
    "# Obtain average purchase price by age group \n",
    "A_PurchasePriceAge = Groups[\"Price\"].mean()\n",
    "\n",
    "# Calculate total purchase value by age group \n",
    "TotalPurchaseValue = Groups[\"Price\"].sum()\n",
    "\n",
    "# Calculate the average purchase per person in the age group \n",
    "A_PurchasePerPerson = TotalPurchaseValue/TotalAgeCount\n",
    "\n",
    "# Create data frame with obtained values\n",
    "Age = pd.DataFrame({\"Purchase Count\": AgePurchaseCount,\n",
    "                                 \"Average Purchase Price\": A_PurchasePriceAge,\n",
    "                                 \"Total Purchase Value\": TotalPurchaseValue,\n",
    "                                 \"Average Purchase Total per Person\": A_PurchasePerPerson})\n",
    "\n",
    "# Format the data frame with no index name in the corner\n",
    "Age.index.name = None\n",
    "\n",
    "# Format with currency style\n",
    "Age.style.format({\"Average Purchase Price\":\"${:,.2f}\",\n",
    "                               \"Total Purchase Value\":\"${:,.2f}\",\n",
    "                               \"Average Purchase Total per Person\":\"${:,.2f}\"})"
   ]
  },
  {
   "cell_type": "markdown",
   "metadata": {},
   "source": [
    "## Top Spenders"
   ]
  },
  {
   "cell_type": "markdown",
   "metadata": {},
   "source": [
    "* Run basic calculations to obtain the results in the table below\n",
    "\n",
    "\n",
    "* Create a summary data frame to hold the results\n",
    "\n",
    "\n",
    "* Sort the total purchase value column in descending order\n",
    "\n",
    "\n",
    "* Optional: give the displayed data cleaner formatting\n",
    "\n",
    "\n",
    "* Display a preview of the summary data frame\n",
    "\n"
   ]
  },
  {
   "cell_type": "code",
   "execution_count": 84,
   "metadata": {},
   "outputs": [
    {
     "data": {
      "text/html": [
       "<style  type=\"text/css\" >\n",
       "</style><table id=\"T_51390c1c_e7d8_11e9_8078_b888e3ef5b7a\" ><thead>    <tr>        <th class=\"blank level0\" ></th>        <th class=\"col_heading level0 col0\" >Purchase Count</th>        <th class=\"col_heading level0 col1\" >Average Purchase Price</th>        <th class=\"col_heading level0 col2\" >Total Purchase Value</th>    </tr>    <tr>        <th class=\"index_name level0\" >SN</th>        <th class=\"blank\" ></th>        <th class=\"blank\" ></th>        <th class=\"blank\" ></th>    </tr></thead><tbody>\n",
       "                <tr>\n",
       "                        <th id=\"T_51390c1c_e7d8_11e9_8078_b888e3ef5b7alevel0_row0\" class=\"row_heading level0 row0\" >Lisosia93</th>\n",
       "                        <td id=\"T_51390c1c_e7d8_11e9_8078_b888e3ef5b7arow0_col0\" class=\"data row0 col0\" >5</td>\n",
       "                        <td id=\"T_51390c1c_e7d8_11e9_8078_b888e3ef5b7arow0_col1\" class=\"data row0 col1\" >$3.79</td>\n",
       "                        <td id=\"T_51390c1c_e7d8_11e9_8078_b888e3ef5b7arow0_col2\" class=\"data row0 col2\" >$18.96</td>\n",
       "            </tr>\n",
       "            <tr>\n",
       "                        <th id=\"T_51390c1c_e7d8_11e9_8078_b888e3ef5b7alevel0_row1\" class=\"row_heading level0 row1\" >Idastidru52</th>\n",
       "                        <td id=\"T_51390c1c_e7d8_11e9_8078_b888e3ef5b7arow1_col0\" class=\"data row1 col0\" >4</td>\n",
       "                        <td id=\"T_51390c1c_e7d8_11e9_8078_b888e3ef5b7arow1_col1\" class=\"data row1 col1\" >$3.86</td>\n",
       "                        <td id=\"T_51390c1c_e7d8_11e9_8078_b888e3ef5b7arow1_col2\" class=\"data row1 col2\" >$15.45</td>\n",
       "            </tr>\n",
       "            <tr>\n",
       "                        <th id=\"T_51390c1c_e7d8_11e9_8078_b888e3ef5b7alevel0_row2\" class=\"row_heading level0 row2\" >Chamjask73</th>\n",
       "                        <td id=\"T_51390c1c_e7d8_11e9_8078_b888e3ef5b7arow2_col0\" class=\"data row2 col0\" >3</td>\n",
       "                        <td id=\"T_51390c1c_e7d8_11e9_8078_b888e3ef5b7arow2_col1\" class=\"data row2 col1\" >$4.61</td>\n",
       "                        <td id=\"T_51390c1c_e7d8_11e9_8078_b888e3ef5b7arow2_col2\" class=\"data row2 col2\" >$13.83</td>\n",
       "            </tr>\n",
       "            <tr>\n",
       "                        <th id=\"T_51390c1c_e7d8_11e9_8078_b888e3ef5b7alevel0_row3\" class=\"row_heading level0 row3\" >Iral74</th>\n",
       "                        <td id=\"T_51390c1c_e7d8_11e9_8078_b888e3ef5b7arow3_col0\" class=\"data row3 col0\" >4</td>\n",
       "                        <td id=\"T_51390c1c_e7d8_11e9_8078_b888e3ef5b7arow3_col1\" class=\"data row3 col1\" >$3.40</td>\n",
       "                        <td id=\"T_51390c1c_e7d8_11e9_8078_b888e3ef5b7arow3_col2\" class=\"data row3 col2\" >$13.62</td>\n",
       "            </tr>\n",
       "            <tr>\n",
       "                        <th id=\"T_51390c1c_e7d8_11e9_8078_b888e3ef5b7alevel0_row4\" class=\"row_heading level0 row4\" >Iskadarya95</th>\n",
       "                        <td id=\"T_51390c1c_e7d8_11e9_8078_b888e3ef5b7arow4_col0\" class=\"data row4 col0\" >3</td>\n",
       "                        <td id=\"T_51390c1c_e7d8_11e9_8078_b888e3ef5b7arow4_col1\" class=\"data row4 col1\" >$4.37</td>\n",
       "                        <td id=\"T_51390c1c_e7d8_11e9_8078_b888e3ef5b7arow4_col2\" class=\"data row4 col2\" >$13.10</td>\n",
       "            </tr>\n",
       "    </tbody></table>"
      ],
      "text/plain": [
       "<pandas.io.formats.style.Styler at 0x2bada3eedd8>"
      ]
     },
     "execution_count": 84,
     "metadata": {},
     "output_type": "execute_result"
    }
   ],
   "source": [
    "# Group purchase data by screen names\n",
    "Stats_Spender = purchase_data.groupby(\"SN\")\n",
    "\n",
    "# Count the total purchases by name\n",
    "SpenderTotalCount = Stats_Spender[\"Purchase ID\"].count()\n",
    "\n",
    "# Calculate the average purchase by name \n",
    "AveragePurchasePrice_Spender = Stats_Spender[\"Price\"].mean()\n",
    "\n",
    "# Calculate purchase total \n",
    "TotalPurchase_Spender = Stats_Spender[\"Price\"].sum()\n",
    "\n",
    "# Create data frame with obtained values\n",
    "TopSpenderResults = pd.DataFrame({\"Purchase Count\": SpenderTotalCount,\n",
    "                             \"Average Purchase Price\": AveragePurchasePrice_Spender,\n",
    "                             \"Total Purchase Value\":TotalPurchase_Spender})\n",
    "# Sort in descending order to obtain top 5 spender names \n",
    "SpenderOrder = TopSpenderResults.sort_values([\"Total Purchase Value\"], ascending=False).head(5) #head() by default is the top 5\n",
    "\n",
    "# Format with currency style\n",
    "SpenderOrder.style.format({\"Average Purchase Total\":\"${:,.2f}\",\n",
    "                                 \"Average Purchase Price\":\"${:,.2f}\", \n",
    "                                 \"Total Purchase Value\":\"${:,.2f}\"})"
   ]
  },
  {
   "cell_type": "markdown",
   "metadata": {},
   "source": [
    "## Most Popular Items"
   ]
  },
  {
   "cell_type": "markdown",
   "metadata": {},
   "source": [
    "* Retrieve the Item ID, Item Name, and Item Price columns\n",
    "\n",
    "\n",
    "* Group by Item ID and Item Name. Perform calculations to obtain purchase count, item price, and total purchase value\n",
    "\n",
    "\n",
    "* Create a summary data frame to hold the results\n",
    "\n",
    "\n",
    "* Sort the purchase count column in descending order\n",
    "\n",
    "\n",
    "* Optional: give the displayed data cleaner formatting\n",
    "\n",
    "\n",
    "* Display a preview of the summary data frame\n",
    "\n"
   ]
  },
  {
   "cell_type": "code",
   "execution_count": 104,
   "metadata": {},
   "outputs": [
    {
     "data": {
      "text/html": [
       "<style  type=\"text/css\" >\n",
       "</style><table id=\"T_a70c940a_e7e2_11e9_a8dd_b888e3ef5b7a\" ><thead>    <tr>        <th class=\"blank\" ></th>        <th class=\"blank level0\" ></th>        <th class=\"col_heading level0 col0\" >Purchase Count</th>        <th class=\"col_heading level0 col1\" >Item Price</th>        <th class=\"col_heading level0 col2\" >Total Purchase Value</th>    </tr>    <tr>        <th class=\"index_name level0\" >Item ID</th>        <th class=\"index_name level1\" >Item Name</th>        <th class=\"blank\" ></th>        <th class=\"blank\" ></th>        <th class=\"blank\" ></th>    </tr></thead><tbody>\n",
       "                <tr>\n",
       "                        <th id=\"T_a70c940a_e7e2_11e9_a8dd_b888e3ef5b7alevel0_row0\" class=\"row_heading level0 row0\" >178</th>\n",
       "                        <th id=\"T_a70c940a_e7e2_11e9_a8dd_b888e3ef5b7alevel1_row0\" class=\"row_heading level1 row0\" >Oathbreaker, Last Hope of the Breaking Storm</th>\n",
       "                        <td id=\"T_a70c940a_e7e2_11e9_a8dd_b888e3ef5b7arow0_col0\" class=\"data row0 col0\" >12</td>\n",
       "                        <td id=\"T_a70c940a_e7e2_11e9_a8dd_b888e3ef5b7arow0_col1\" class=\"data row0 col1\" >$4.23</td>\n",
       "                        <td id=\"T_a70c940a_e7e2_11e9_a8dd_b888e3ef5b7arow0_col2\" class=\"data row0 col2\" >$50.76</td>\n",
       "            </tr>\n",
       "            <tr>\n",
       "                        <th id=\"T_a70c940a_e7e2_11e9_a8dd_b888e3ef5b7alevel0_row1\" class=\"row_heading level0 row1\" >145</th>\n",
       "                        <th id=\"T_a70c940a_e7e2_11e9_a8dd_b888e3ef5b7alevel1_row1\" class=\"row_heading level1 row1\" >Fiery Glass Crusader</th>\n",
       "                        <td id=\"T_a70c940a_e7e2_11e9_a8dd_b888e3ef5b7arow1_col0\" class=\"data row1 col0\" >9</td>\n",
       "                        <td id=\"T_a70c940a_e7e2_11e9_a8dd_b888e3ef5b7arow1_col1\" class=\"data row1 col1\" >$4.58</td>\n",
       "                        <td id=\"T_a70c940a_e7e2_11e9_a8dd_b888e3ef5b7arow1_col2\" class=\"data row1 col2\" >$41.22</td>\n",
       "            </tr>\n",
       "            <tr>\n",
       "                        <th id=\"T_a70c940a_e7e2_11e9_a8dd_b888e3ef5b7alevel0_row2\" class=\"row_heading level0 row2\" >108</th>\n",
       "                        <th id=\"T_a70c940a_e7e2_11e9_a8dd_b888e3ef5b7alevel1_row2\" class=\"row_heading level1 row2\" >Extraction, Quickblade Of Trembling Hands</th>\n",
       "                        <td id=\"T_a70c940a_e7e2_11e9_a8dd_b888e3ef5b7arow2_col0\" class=\"data row2 col0\" >9</td>\n",
       "                        <td id=\"T_a70c940a_e7e2_11e9_a8dd_b888e3ef5b7arow2_col1\" class=\"data row2 col1\" >$3.53</td>\n",
       "                        <td id=\"T_a70c940a_e7e2_11e9_a8dd_b888e3ef5b7arow2_col2\" class=\"data row2 col2\" >$31.77</td>\n",
       "            </tr>\n",
       "            <tr>\n",
       "                        <th id=\"T_a70c940a_e7e2_11e9_a8dd_b888e3ef5b7alevel0_row3\" class=\"row_heading level0 row3\" >82</th>\n",
       "                        <th id=\"T_a70c940a_e7e2_11e9_a8dd_b888e3ef5b7alevel1_row3\" class=\"row_heading level1 row3\" >Nirvana</th>\n",
       "                        <td id=\"T_a70c940a_e7e2_11e9_a8dd_b888e3ef5b7arow3_col0\" class=\"data row3 col0\" >9</td>\n",
       "                        <td id=\"T_a70c940a_e7e2_11e9_a8dd_b888e3ef5b7arow3_col1\" class=\"data row3 col1\" >$4.90</td>\n",
       "                        <td id=\"T_a70c940a_e7e2_11e9_a8dd_b888e3ef5b7arow3_col2\" class=\"data row3 col2\" >$44.10</td>\n",
       "            </tr>\n",
       "            <tr>\n",
       "                        <th id=\"T_a70c940a_e7e2_11e9_a8dd_b888e3ef5b7alevel0_row4\" class=\"row_heading level0 row4\" >19</th>\n",
       "                        <th id=\"T_a70c940a_e7e2_11e9_a8dd_b888e3ef5b7alevel1_row4\" class=\"row_heading level1 row4\" >Pursuit, Cudgel of Necromancy</th>\n",
       "                        <td id=\"T_a70c940a_e7e2_11e9_a8dd_b888e3ef5b7arow4_col0\" class=\"data row4 col0\" >8</td>\n",
       "                        <td id=\"T_a70c940a_e7e2_11e9_a8dd_b888e3ef5b7arow4_col1\" class=\"data row4 col1\" >$1.02</td>\n",
       "                        <td id=\"T_a70c940a_e7e2_11e9_a8dd_b888e3ef5b7arow4_col2\" class=\"data row4 col2\" >$8.16</td>\n",
       "            </tr>\n",
       "    </tbody></table>"
      ],
      "text/plain": [
       "<pandas.io.formats.style.Styler at 0x2bada21f588>"
      ]
     },
     "execution_count": 104,
     "metadata": {},
     "output_type": "execute_result"
    }
   ],
   "source": [
    "# Create new data frame with items related information \n",
    "Items_idnameprice = purchase_data[[\"Item ID\", \"Item Name\", \"Price\"]]\n",
    "\n",
    "# Group the item data by item id and item name \n",
    "GroupItem = Items_idnameprice.groupby([\"Item ID\",\"Item Name\"])\n",
    "\n",
    "# Count the number of times an item has been purchased \n",
    "ItemPurchaseCount = GroupItem[\"Price\"].count()\n",
    "\n",
    "# Calcualte the purchase value per item \n",
    "PurchaseValuePerItem = (GroupItem[\"Price\"].sum()) \n",
    "\n",
    "# Find individual item price\n",
    "IndividualItemPrice = PurchaseValuePerItem / ItemPurchaseCount\n",
    "\n",
    "# Create data frame with obtained values\n",
    "Item_DataFrame = pd.DataFrame({\"Purchase Count\": ItemPurchaseCount, \n",
    "                                   \"Item Price\": IndividualItemPrice,\n",
    "                                   \"Total Purchase Value\": PurchaseValuePerItem})\n",
    "\n",
    "# Sort in descending order to obtain top spender names and provide top 5 item names\n",
    "TopSpendersName = Item_DataFrame.sort_values([\"Purchase Count\"], ascending=False).head(5) #head() is auto for top 5\n",
    "\n",
    "# Format with currency style\n",
    "TopSpendersName.style.format({\"Item Price\":\"${:,.2f}\",\n",
    "                               \"Total Purchase Value\":\"${:,.2f}\"})"
   ]
  },
  {
   "cell_type": "markdown",
   "metadata": {},
   "source": [
    "## Most Profitable Items"
   ]
  },
  {
   "cell_type": "markdown",
   "metadata": {},
   "source": [
    "* Sort the above table by total purchase value in descending order\n",
    "\n",
    "\n",
    "* Optional: give the displayed data cleaner formatting\n",
    "\n",
    "\n",
    "* Display a preview of the data frame\n",
    "\n"
   ]
  },
  {
   "cell_type": "code",
   "execution_count": 105,
   "metadata": {
    "scrolled": true
   },
   "outputs": [
    {
     "data": {
      "text/html": [
       "<style  type=\"text/css\" >\n",
       "</style><table id=\"T_0038c708_e7e3_11e9_a645_b888e3ef5b7a\" ><thead>    <tr>        <th class=\"blank\" ></th>        <th class=\"blank level0\" ></th>        <th class=\"col_heading level0 col0\" >Purchase Count</th>        <th class=\"col_heading level0 col1\" >Item Price</th>        <th class=\"col_heading level0 col2\" >Total Purchase Value</th>    </tr>    <tr>        <th class=\"index_name level0\" >Item ID</th>        <th class=\"index_name level1\" >Item Name</th>        <th class=\"blank\" ></th>        <th class=\"blank\" ></th>        <th class=\"blank\" ></th>    </tr></thead><tbody>\n",
       "                <tr>\n",
       "                        <th id=\"T_0038c708_e7e3_11e9_a645_b888e3ef5b7alevel0_row0\" class=\"row_heading level0 row0\" >178</th>\n",
       "                        <th id=\"T_0038c708_e7e3_11e9_a645_b888e3ef5b7alevel1_row0\" class=\"row_heading level1 row0\" >Oathbreaker, Last Hope of the Breaking Storm</th>\n",
       "                        <td id=\"T_0038c708_e7e3_11e9_a645_b888e3ef5b7arow0_col0\" class=\"data row0 col0\" >12</td>\n",
       "                        <td id=\"T_0038c708_e7e3_11e9_a645_b888e3ef5b7arow0_col1\" class=\"data row0 col1\" >$4.23</td>\n",
       "                        <td id=\"T_0038c708_e7e3_11e9_a645_b888e3ef5b7arow0_col2\" class=\"data row0 col2\" >$50.76</td>\n",
       "            </tr>\n",
       "            <tr>\n",
       "                        <th id=\"T_0038c708_e7e3_11e9_a645_b888e3ef5b7alevel0_row1\" class=\"row_heading level0 row1\" >82</th>\n",
       "                        <th id=\"T_0038c708_e7e3_11e9_a645_b888e3ef5b7alevel1_row1\" class=\"row_heading level1 row1\" >Nirvana</th>\n",
       "                        <td id=\"T_0038c708_e7e3_11e9_a645_b888e3ef5b7arow1_col0\" class=\"data row1 col0\" >9</td>\n",
       "                        <td id=\"T_0038c708_e7e3_11e9_a645_b888e3ef5b7arow1_col1\" class=\"data row1 col1\" >$4.90</td>\n",
       "                        <td id=\"T_0038c708_e7e3_11e9_a645_b888e3ef5b7arow1_col2\" class=\"data row1 col2\" >$44.10</td>\n",
       "            </tr>\n",
       "            <tr>\n",
       "                        <th id=\"T_0038c708_e7e3_11e9_a645_b888e3ef5b7alevel0_row2\" class=\"row_heading level0 row2\" >145</th>\n",
       "                        <th id=\"T_0038c708_e7e3_11e9_a645_b888e3ef5b7alevel1_row2\" class=\"row_heading level1 row2\" >Fiery Glass Crusader</th>\n",
       "                        <td id=\"T_0038c708_e7e3_11e9_a645_b888e3ef5b7arow2_col0\" class=\"data row2 col0\" >9</td>\n",
       "                        <td id=\"T_0038c708_e7e3_11e9_a645_b888e3ef5b7arow2_col1\" class=\"data row2 col1\" >$4.58</td>\n",
       "                        <td id=\"T_0038c708_e7e3_11e9_a645_b888e3ef5b7arow2_col2\" class=\"data row2 col2\" >$41.22</td>\n",
       "            </tr>\n",
       "            <tr>\n",
       "                        <th id=\"T_0038c708_e7e3_11e9_a645_b888e3ef5b7alevel0_row3\" class=\"row_heading level0 row3\" >92</th>\n",
       "                        <th id=\"T_0038c708_e7e3_11e9_a645_b888e3ef5b7alevel1_row3\" class=\"row_heading level1 row3\" >Final Critic</th>\n",
       "                        <td id=\"T_0038c708_e7e3_11e9_a645_b888e3ef5b7arow3_col0\" class=\"data row3 col0\" >8</td>\n",
       "                        <td id=\"T_0038c708_e7e3_11e9_a645_b888e3ef5b7arow3_col1\" class=\"data row3 col1\" >$4.88</td>\n",
       "                        <td id=\"T_0038c708_e7e3_11e9_a645_b888e3ef5b7arow3_col2\" class=\"data row3 col2\" >$39.04</td>\n",
       "            </tr>\n",
       "            <tr>\n",
       "                        <th id=\"T_0038c708_e7e3_11e9_a645_b888e3ef5b7alevel0_row4\" class=\"row_heading level0 row4\" >103</th>\n",
       "                        <th id=\"T_0038c708_e7e3_11e9_a645_b888e3ef5b7alevel1_row4\" class=\"row_heading level1 row4\" >Singed Scalpel</th>\n",
       "                        <td id=\"T_0038c708_e7e3_11e9_a645_b888e3ef5b7arow4_col0\" class=\"data row4 col0\" >8</td>\n",
       "                        <td id=\"T_0038c708_e7e3_11e9_a645_b888e3ef5b7arow4_col1\" class=\"data row4 col1\" >$4.35</td>\n",
       "                        <td id=\"T_0038c708_e7e3_11e9_a645_b888e3ef5b7arow4_col2\" class=\"data row4 col2\" >$34.80</td>\n",
       "            </tr>\n",
       "    </tbody></table>"
      ],
      "text/plain": [
       "<pandas.io.formats.style.Styler at 0x2bada762358>"
      ]
     },
     "execution_count": 105,
     "metadata": {},
     "output_type": "execute_result"
    }
   ],
   "source": [
    "# Take the most_popular items data frame and change the sorting to find highest total purchase value\n",
    "TopSpendersName = Item_DataFrame.sort_values([\"Total Purchase Value\"],ascending=False).head()\n",
    "# Format with currency style\n",
    "TopSpendersName.style.format({\"Item Price\":\"${:,.2f}\",\n",
    "                                \"Total Purchase Value\":\"${:,.2f}\"})"
   ]
  },
  {
   "cell_type": "code",
   "execution_count": null,
   "metadata": {},
   "outputs": [],
   "source": []
  }
 ],
 "metadata": {
  "anaconda-cloud": {},
  "kernel_info": {
   "name": "python3"
  },
  "kernelspec": {
   "display_name": "Python 3",
   "language": "python",
   "name": "python3"
  },
  "language_info": {
   "codemirror_mode": {
    "name": "ipython",
    "version": 3
   },
   "file_extension": ".py",
   "mimetype": "text/x-python",
   "name": "python",
   "nbconvert_exporter": "python",
   "pygments_lexer": "ipython3",
   "version": "3.7.3"
  },
  "latex_envs": {
   "LaTeX_envs_menu_present": true,
   "autoclose": false,
   "autocomplete": true,
   "bibliofile": "biblio.bib",
   "cite_by": "apalike",
   "current_citInitial": 1,
   "eqLabelWithNumbers": true,
   "eqNumInitial": 1,
   "hotkeys": {
    "equation": "Ctrl-E",
    "itemize": "Ctrl-I"
   },
   "labels_anchors": false,
   "latex_user_defs": false,
   "report_style_numbering": false,
   "user_envs_cfg": false
  },
  "nteract": {
   "version": "0.2.0"
  }
 },
 "nbformat": 4,
 "nbformat_minor": 4
}
